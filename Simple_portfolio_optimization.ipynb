{
 "cells": [
  {
   "cell_type": "markdown",
   "metadata": {},
   "source": [
    "# Simple portfolio optimization\n",
    "We consider a portfolio optimization problem as the *Convex Optimization Applications* slides."
   ]
  },
  {
   "cell_type": "code",
   "execution_count": 4,
   "metadata": {},
   "outputs": [],
   "source": [
    "# Construct problem data.\n",
    "import numpy as np\n",
    "\n",
    "np.random.seed(12)\n",
    "n = 20\n",
    "mu = np.ones((n,1))*.03 + np.r_[np.random.rand(n-1,1), np.zeros((1,1))]*.12;\n",
    "mu[-1] = 0\n",
    "S = np.random.randn(n, n);\n",
    "S = S.T*S\n",
    "Sigma = S/max(np.abs(np.diag(S)))*.2\n",
    "Sigma[:, -1] = np.zeros(n)\n",
    "Sigma[-1, :] = np.zeros(n)\n",
    "w_unif = np.ones((n, 1))/n"
   ]
  },
  {
   "cell_type": "code",
   "execution_count": 5,
   "metadata": {},
   "outputs": [
    {
     "ename": "ModuleNotFoundError",
     "evalue": "No module named 'cvxpy'",
     "output_type": "error",
     "traceback": [
      "\u001b[0;31m---------------------------------------------------------------------------\u001b[0m",
      "\u001b[0;31mModuleNotFoundError\u001b[0m                       Traceback (most recent call last)",
      "\u001b[0;32m/tmp/ipykernel_40397/267874138.py\u001b[0m in \u001b[0;36m<module>\u001b[0;34m\u001b[0m\n\u001b[0;32m----> 1\u001b[0;31m \u001b[0;32mimport\u001b[0m \u001b[0mcvxpy\u001b[0m \u001b[0;32mas\u001b[0m \u001b[0mcp\u001b[0m\u001b[0;34m\u001b[0m\u001b[0;34m\u001b[0m\u001b[0m\n\u001b[0m\u001b[1;32m      2\u001b[0m \u001b[0mw\u001b[0m \u001b[0;34m=\u001b[0m \u001b[0mcp\u001b[0m\u001b[0;34m.\u001b[0m\u001b[0mVariable\u001b[0m\u001b[0;34m(\u001b[0m\u001b[0mn\u001b[0m\u001b[0;34m)\u001b[0m\u001b[0;34m\u001b[0m\u001b[0;34m\u001b[0m\u001b[0m\n\u001b[1;32m      3\u001b[0m \u001b[0;34m\u001b[0m\u001b[0m\n\u001b[1;32m      4\u001b[0m \u001b[0;31m# Uniform portfolio\u001b[0m\u001b[0;34m\u001b[0m\u001b[0;34m\u001b[0m\u001b[0;34m\u001b[0m\u001b[0m\n\u001b[1;32m      5\u001b[0m \u001b[0mprint\u001b[0m\u001b[0;34m(\u001b[0m\u001b[0;34m'Risk for uniform: %.2f%%'\u001b[0m \u001b[0;34m%\u001b[0m \u001b[0mfloat\u001b[0m\u001b[0;34m(\u001b[0m\u001b[0mnp\u001b[0m\u001b[0;34m.\u001b[0m\u001b[0msqrt\u001b[0m\u001b[0;34m(\u001b[0m\u001b[0mw_unif\u001b[0m\u001b[0;34m.\u001b[0m\u001b[0mT\u001b[0m\u001b[0;34m*\u001b[0m\u001b[0mSigma\u001b[0m\u001b[0;34m*\u001b[0m\u001b[0mw_unif\u001b[0m\u001b[0;34m)\u001b[0m\u001b[0;34m*\u001b[0m\u001b[0;36m100\u001b[0m\u001b[0;34m)\u001b[0m\u001b[0;34m)\u001b[0m\u001b[0;34m\u001b[0m\u001b[0;34m\u001b[0m\u001b[0m\n",
      "\u001b[0;31mModuleNotFoundError\u001b[0m: No module named 'cvxpy'"
     ]
    }
   ],
   "source": [
    "import cvxpy as cp\n",
    "w = cp.Variable(n)\n",
    "\n",
    "# Uniform portfolio\n",
    "print('Risk for uniform: %.2f%%' % float(np.sqrt(w_unif.T*Sigma*w_unif)*100))\n",
    "\n",
    "# No additional constraints\n",
    "# TODO: your code here. You define risk.\n",
    "\n",
    "print('Risk for unconstrained: %.2f%%' % float(np.sqrt(risk.value)*100))\n",
    "\n",
    "# Long only\n",
    "# TODO: your code here. You define risk.\n",
    "\n",
    "print('Risk for long only: %.2f%%' % float(np.sqrt(risk.value)*100))\n",
    "\n",
    "# Limit on total short position\n",
    "# TODO: your code here. You define risk.\n",
    "\n",
    "print('Risk for limit on short: %.2f%%' % float(np.sqrt(risk.value)*100))"
   ]
  },
  {
   "cell_type": "markdown",
   "metadata": {},
   "source": [
    "\n",
    "We are plotting the optimal risk-return trade-off curves for the long-only portfolio, and for total short position limited to 0.5, in the same figure.\n",
    "\n",
    "Comment on the relationship between the two trade-off curves."
   ]
  },
  {
   "cell_type": "code",
   "execution_count": null,
   "metadata": {},
   "outputs": [],
   "source": [
    "import matplotlib.pyplot as plt\n",
    "%matplotlib inline\n",
    "\n",
    "w = cp.Variable(n)\n",
    "gamma = cp.Parameter(nonneg=True)\n",
    "N = 128\n",
    "\n",
    "# Long only\n",
    "# TODO: your code here: define prob, expec_return, risk\n",
    "\n",
    "gamma_vals = np.logspace(-1,5,num=N)\n",
    "return_vec1 = np.zeros((N,1))\n",
    "risk_vec1 = np.zeros((N,1))\n",
    "for i in range(N):\n",
    "    gamma.value = gamma_vals[i]\n",
    "    # you define prob, expec_return, and risk.\n",
    "    prob.solve()\n",
    "    return_vec1[i] = expec_return.value\n",
    "    risk_vec1[i] = risk.value\n",
    "plt.figure()\n",
    "plt.plot(np.sqrt(risk_vec1)*100, return_vec1*100, label='Long only')\n",
    "\n",
    "# Limit on short\n",
    "# TODO: your code here: define prob, expec_return, risk\n",
    "\n",
    "return_vec2 = np.zeros((N,1))\n",
    "risk_vec2 = np.zeros((N,1))\n",
    "for i in range(N):\n",
    "    gamma.value = gamma_vals[i]\n",
    "    # you define prob, expec_return, and risk.\n",
    "    prob.solve()\n",
    "    return_vec2[i] = expec_return.value\n",
    "    risk_vec2[i] = risk.value\n",
    "    \n",
    "plt.plot(np.sqrt(risk_vec2)*100, return_vec2*100, label='Limit on short')\n",
    "plt.legend()\n",
    "plt.xlabel('Risk in %')\n",
    "plt.ylabel('Return in %')\n",
    "plt.show()"
   ]
  },
  {
   "cell_type": "code",
   "execution_count": null,
   "metadata": {},
   "outputs": [],
   "source": []
  }
 ],
 "metadata": {
  "interpreter": {
   "hash": "f5d52a73313859ff49d0191f1b5fe0e6ab45fe1a4cc05a5a853a287e9ccf2efc"
  },
  "kernelspec": {
   "display_name": "Python 3.7.11 ('AWS_env')",
   "language": "python",
   "name": "python3"
  },
  "language_info": {
   "codemirror_mode": {
    "name": "ipython",
    "version": 3
   },
   "file_extension": ".py",
   "mimetype": "text/x-python",
   "name": "python",
   "nbconvert_exporter": "python",
   "pygments_lexer": "ipython3",
   "version": "3.7.11"
  }
 },
 "nbformat": 4,
 "nbformat_minor": 1
}
